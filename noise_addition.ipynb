{
 "cells": [
  {
   "cell_type": "code",
   "execution_count": 4,
   "metadata": {},
   "outputs": [],
   "source": [
    "import warnings\n",
    "warnings.filterwarnings('ignore')\n",
    "import os\n",
    "import glob\n",
    "import librosa as lb\n",
    "import scipy.io.wavfile as wave\n",
    "import numpy as np\n",
    "from numpy.random import randint\n",
    "import matplotlib.pyplot as plt"
   ]
  },
  {
   "cell_type": "code",
   "execution_count": 5,
   "metadata": {},
   "outputs": [],
   "source": [
    "def addNoise(data,SNRdB,noise_type):\n",
    "\n",
    "    snr = 10 ** (SNRdB / 10)\n",
    "    signalPower = np.sum(abs(data) ** 2) / len(data)\n",
    "    noisePower = signalPower / snr\n",
    "    path = r\"F:\\SSP\\Project\\noises\\noises\\{}.wav\".format(noise_type)\n",
    "\n",
    "    noise_file,_ = lb.load(path)\n",
    "    \n",
    "    index = randint(0,len(noise_file)-len(data))\n",
    "    noise_file = noise_file[index:index+len(data)]\n",
    "    # normalise noise_file\n",
    "    noise_file = noise_file / np.max(np.abs(noise_file))\n",
    "    noise = np.sqrt(noisePower / 2) * noise_file\n",
    "    noisySignal = data + noise \n",
    "\n",
    "    return noisySignal"
   ]
  },
  {
   "cell_type": "markdown",
   "metadata": {},
   "source": [
    "# Add Noise to Entire Dataset"
   ]
  },
  {
   "cell_type": "code",
   "execution_count": 6,
   "metadata": {},
   "outputs": [],
   "source": [
    "# add noise to audio files\n",
    "path = r\"F:\\SSP\\Project\\noisy_factory_dataset\"\n",
    "files = glob.glob(path+\"\\*\\*\\*\\*.wav\")\n",
    "for file in files:\n",
    "    data,fs = lb.load(file)\n",
    "    noisySignal = addNoise(data,0,\"factory1\")\n",
    "    wave.write(file,fs,noisySignal)    "
   ]
  }
 ],
 "metadata": {
  "kernelspec": {
   "display_name": "Python 3.10.2 64-bit",
   "language": "python",
   "name": "python3"
  },
  "language_info": {
   "codemirror_mode": {
    "name": "ipython",
    "version": 3
   },
   "file_extension": ".py",
   "mimetype": "text/x-python",
   "name": "python",
   "nbconvert_exporter": "python",
   "pygments_lexer": "ipython3",
   "version": "3.10.2"
  },
  "orig_nbformat": 4,
  "vscode": {
   "interpreter": {
    "hash": "369f2c481f4da34e4445cda3fffd2e751bd1c4d706f27375911949ba6bb62e1c"
   }
  }
 },
 "nbformat": 4,
 "nbformat_minor": 2
}
